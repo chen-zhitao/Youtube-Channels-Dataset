{
 "cells": [
  {
   "cell_type": "code",
   "execution_count": 9,
   "id": "d5a98188",
   "metadata": {},
   "outputs": [],
   "source": [
    "#!pip install langdetect"
   ]
  },
  {
   "cell_type": "code",
   "execution_count": 10,
   "id": "ab0f1cee",
   "metadata": {},
   "outputs": [],
   "source": [
    "from langdetect import detect\n",
    "\n",
    "def is_english(text):\n",
    "    lang=detect(text)\n",
    "    return lang== 'en'\n"
   ]
  },
  {
   "cell_type": "code",
   "execution_count": 11,
   "id": "22b6e62a",
   "metadata": {},
   "outputs": [
    {
     "data": {
      "text/plain": [
       "False"
      ]
     },
     "execution_count": 11,
     "metadata": {},
     "output_type": "execute_result"
    }
   ],
   "source": [
    "is_english('这是什么')"
   ]
  },
  {
   "cell_type": "code",
   "execution_count": 12,
   "id": "d60673d6",
   "metadata": {},
   "outputs": [
    {
     "data": {
      "text/plain": [
       "True"
      ]
     },
     "execution_count": 12,
     "metadata": {},
     "output_type": "execute_result"
    }
   ],
   "source": [
    "is_english('Chilling Cases| एक Family की ‘Khaufnaak प्रथा’ जिसको जानकर हिल गई Police |Crime Patrol|Full Episode')"
   ]
  },
  {
   "cell_type": "code",
   "execution_count": 13,
   "id": "9faed9c7",
   "metadata": {},
   "outputs": [],
   "source": [
    "#!pip install spacy"
   ]
  },
  {
   "cell_type": "code",
   "execution_count": 14,
   "id": "96843caa",
   "metadata": {},
   "outputs": [],
   "source": [
    "#!python -m spacy download en"
   ]
  },
  {
   "cell_type": "code",
   "execution_count": 8,
   "id": "f716d25a",
   "metadata": {},
   "outputs": [],
   "source": [
    "#!pip install spacy-langdetect"
   ]
  },
  {
   "cell_type": "code",
   "execution_count": 1,
   "id": "ab93ffec",
   "metadata": {},
   "outputs": [
    {
     "data": {
      "text/plain": [
       "'\\ndef get_lang_detector(nlp, name):\\n    return LanguageDetector()\\n\\n\\ndef get_nlp():\\n    nlp = spacy.load(\"en_core_web_sm\")\\n    #nlp.add_pipe(\\'language_detector\\', last=True)\\n    nlp.add_pipe(\\'language_detector\\')\\n    Language.factory(\"language_detector\", func=get_lang_detector)\\n    return nlp\\n'"
      ]
     },
     "execution_count": 1,
     "metadata": {},
     "output_type": "execute_result"
    }
   ],
   "source": [
    "# bit tricky to work with spacy language factory see the following reference\n",
    "# https://stackoverflow.com/questions/66712753/how-to-use-languagedetector-from-spacy-langdetect-package\n",
    "\n",
    "import re\n",
    "import spacy\n",
    "from spacy.language import Language\n",
    "from spacy_langdetect import LanguageDetector\n",
    "\n",
    "\n",
    "@Language.factory(\"language_detector\")\n",
    "def get_lang_detector(nlp, name):\n",
    "    return LanguageDetector()\n",
    "\n",
    "def get_nlp():\n",
    "    nlp = spacy.load(\"en_core_web_sm\")\n",
    "    nlp.add_pipe('language_detector', last=True)\n",
    "    return nlp\n",
    "\n",
    "\"\"\"\n",
    "def get_lang_detector(nlp, name):\n",
    "    return LanguageDetector()\n",
    "\n",
    "\n",
    "def get_nlp():\n",
    "    nlp = spacy.load(\"en_core_web_sm\")\n",
    "    #nlp.add_pipe('language_detector', last=True)\n",
    "    nlp.add_pipe('language_detector')\n",
    "    Language.factory(\"language_detector\", func=get_lang_detector)\n",
    "    return nlp\n",
    "\"\"\"\n"
   ]
  },
  {
   "cell_type": "code",
   "execution_count": 2,
   "id": "77112839",
   "metadata": {},
   "outputs": [],
   "source": [
    "nlp=get_nlp()"
   ]
  },
  {
   "cell_type": "code",
   "execution_count": 33,
   "id": "fac98833",
   "metadata": {},
   "outputs": [],
   "source": [
    "def preprocess_text(text, nlp):\n",
    "    \n",
    "    doc = nlp(text)\n",
    "\n",
    "    filtered_sentences = []\n",
    "    for sentence in doc.sents:\n",
    "        if sentence._.language[\"language\"] != \"en\":\n",
    "            continue\n",
    "        if not any(token.like_url or token.like_email or token.text.startswith('@') for token in sentence):\n",
    "            filtered_sentences.append(sentence.text)\n",
    "            \n",
    "    text=' '.join(filtered_sentences)\n",
    "    #text=re.sub(r'[^a-zA-Z\\s,.!?\\'\\\"]', ' ', text)\n",
    "    text=re.sub(r'[^a-zA-Z\\s,.!?]', ' ', text)\n",
    "    text=\" \".join(text.split())\n",
    "\n",
    "    return text"
   ]
  },
  {
   "cell_type": "code",
   "execution_count": 34,
   "id": "69051a41",
   "metadata": {},
   "outputs": [],
   "source": [
    "text1='Chilling Cases!!| एक Family की ‘Khaufnaak प्रथा’ जिसको जानकर हिल गई Police |Crime Patrol|Full Episode'"
   ]
  },
  {
   "cell_type": "code",
   "execution_count": 35,
   "id": "1ee08a62",
   "metadata": {},
   "outputs": [],
   "source": [
    "text2=\"Robert Downey Jr. walks us through his legendary career, discussing his roles in 'Pound,' 'Less Than Zero,' 'Chaplin,' 'Kiss Kiss Bang Bang,' 'Zodiac,' 'Iron Man,' 'The Judge,' 'Oppenheimer' and more.OPPENHEIMER is in theaters July 21, 2023, https://www.oppenheimermovie.com/   SAG-AFTRA members are currently on strike; as part of the strike, union actors are not promoting their film and TV projects. This video was conducted prior to the strike.'\""
   ]
  },
  {
   "cell_type": "code",
   "execution_count": 36,
   "id": "9517a556",
   "metadata": {},
   "outputs": [],
   "source": [
    "text3 = \"Follow me on instagram @testhandle. Support me through patreon www.somethingsomething.patreon.com. Here is another sentence. Thank you. Another one.\""
   ]
  },
  {
   "cell_type": "code",
   "execution_count": 37,
   "id": "f0f42a9b",
   "metadata": {},
   "outputs": [],
   "source": [
    "text=text1 + text2 + text3"
   ]
  },
  {
   "cell_type": "code",
   "execution_count": 38,
   "id": "0caf42e8",
   "metadata": {},
   "outputs": [
    {
     "name": "stdout",
     "output_type": "stream",
     "text": [
      "Chilling Cases!!| एक Family की ‘Khaufnaak प्रथा’ जिसको जानकर हिल गई Police |Crime Patrol|Full EpisodeRobert Downey Jr. walks us through his legendary career, discussing his roles in 'Pound,' 'Less Than Zero,' 'Chaplin,' 'Kiss Kiss Bang Bang,' 'Zodiac,' 'Iron Man,' 'The Judge,' 'Oppenheimer' and more.OPPENHEIMER is in theaters July 21, 2023, https://www.oppenheimermovie.com/   SAG-AFTRA members are currently on strike; as part of the strike, union actors are not promoting their film and TV projects. This video was conducted prior to the strike.'Follow me on instagram @testhandle. Support me through patreon www.somethingsomething.patreon.com. Here is another sentence. Thank you. Another one.\n"
     ]
    }
   ],
   "source": [
    "print(text)"
   ]
  },
  {
   "cell_type": "code",
   "execution_count": 41,
   "id": "4db78f82",
   "metadata": {},
   "outputs": [
    {
     "data": {
      "text/plain": [
       "['tok2vec',\n",
       " 'tagger',\n",
       " 'parser',\n",
       " 'attribute_ruler',\n",
       " 'lemmatizer',\n",
       " 'ner',\n",
       " 'language_detector']"
      ]
     },
     "execution_count": 41,
     "metadata": {},
     "output_type": "execute_result"
    }
   ],
   "source": [
    "nlp.pipe_names"
   ]
  },
  {
   "cell_type": "code",
   "execution_count": 42,
   "id": "80448857",
   "metadata": {},
   "outputs": [],
   "source": [
    "doc=nlp(text)"
   ]
  },
  {
   "cell_type": "code",
   "execution_count": 63,
   "id": "99422572",
   "metadata": {},
   "outputs": [],
   "source": [
    "doc_2=[d for d in nlp.pipe(text)]"
   ]
  },
  {
   "cell_type": "code",
   "execution_count": 65,
   "id": "5bd9f309",
   "metadata": {},
   "outputs": [
    {
     "data": {
      "text/plain": [
       "l"
      ]
     },
     "execution_count": 65,
     "metadata": {},
     "output_type": "execute_result"
    }
   ],
   "source": [
    "doc_2[3]"
   ]
  },
  {
   "cell_type": "code",
   "execution_count": 32,
   "id": "85af1f6b",
   "metadata": {},
   "outputs": [
    {
     "name": "stdout",
     "output_type": "stream",
     "text": [
      "CPU times: user 84.2 ms, sys: 10.4 ms, total: 94.6 ms\n",
      "Wall time: 94.9 ms\n"
     ]
    }
   ],
   "source": [
    "%%time\n",
    "text=preprocess_text(text, nlp)"
   ]
  },
  {
   "cell_type": "code",
   "execution_count": 25,
   "id": "46761fc5",
   "metadata": {},
   "outputs": [
    {
     "name": "stdout",
     "output_type": "stream",
     "text": [
      "Chilling Cases!! Family Khaufnaak Police Crime Patrol Full EpisodeRobert Downey Jr. walks us through his legendary career, discussing his roles in Pound, Less Than Zero, Chaplin, Kiss Kiss Bang Bang, Zodiac, Iron Man, The Judge, Oppenheimer and more. This video was conducted prior to the strike. Here is another sentence. Another one.\n"
     ]
    }
   ],
   "source": [
    "print(text)"
   ]
  },
  {
   "cell_type": "code",
   "execution_count": 26,
   "id": "6ac4d10d",
   "metadata": {},
   "outputs": [
    {
     "data": {
      "text/plain": [
       "'Chilling Cases!! Family Khaufnaak Police Crime Patrol Full EpisodeRobert Downey Jr. walks us through his legendary career, discussing his roles in Pound, Less Than Zero, Chaplin, Kiss Kiss Bang Bang, Zodiac, Iron Man, The Judge, Oppenheimer and more. This video was conducted prior to the strike. Here is another sentence. Another one.'"
      ]
     },
     "execution_count": 26,
     "metadata": {},
     "output_type": "execute_result"
    }
   ],
   "source": [
    "text"
   ]
  },
  {
   "cell_type": "code",
   "execution_count": null,
   "id": "c8fa15cf",
   "metadata": {},
   "outputs": [],
   "source": []
  }
 ],
 "metadata": {
  "kernelspec": {
   "display_name": "Python 3 (ipykernel)",
   "language": "python",
   "name": "python3"
  },
  "language_info": {
   "codemirror_mode": {
    "name": "ipython",
    "version": 3
   },
   "file_extension": ".py",
   "mimetype": "text/x-python",
   "name": "python",
   "nbconvert_exporter": "python",
   "pygments_lexer": "ipython3",
   "version": "3.9.12"
  }
 },
 "nbformat": 4,
 "nbformat_minor": 5
}
