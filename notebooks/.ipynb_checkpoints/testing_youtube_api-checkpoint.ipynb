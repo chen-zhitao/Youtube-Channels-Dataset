{
 "cells": [
  {
   "cell_type": "code",
   "execution_count": 6,
   "id": "6e658588",
   "metadata": {},
   "outputs": [],
   "source": [
    "#!pip install --upgrade google-api-core"
   ]
  },
  {
   "cell_type": "code",
   "execution_count": 1,
   "id": "600a68e3",
   "metadata": {},
   "outputs": [],
   "source": [
    "import os"
   ]
  },
  {
   "cell_type": "code",
   "execution_count": 2,
   "id": "fe1cf1fb",
   "metadata": {},
   "outputs": [],
   "source": [
    "from googleapiclient.discovery import build\n",
    "\n",
    "api_key = os.getenv('YOUTUBE_API_KEY')\n",
    "\n",
    "youtube = build('youtube','v3', developerKey=api_key)"
   ]
  },
  {
   "cell_type": "code",
   "execution_count": 3,
   "id": "f3d20c57",
   "metadata": {},
   "outputs": [],
   "source": [
    "import pickle"
   ]
  },
  {
   "cell_type": "code",
   "execution_count": 4,
   "id": "94a7080c",
   "metadata": {},
   "outputs": [
    {
     "ename": "FileNotFoundError",
     "evalue": "[Errno 2] No such file or directory: 'id_2_url.pkl'",
     "output_type": "error",
     "traceback": [
      "\u001b[0;31m---------------------------------------------------------------------------\u001b[0m",
      "\u001b[0;31mFileNotFoundError\u001b[0m                         Traceback (most recent call last)",
      "\u001b[0;32m/var/folders/58/3s7j46gx4t50mdq4tzm0t9gw0000gn/T/ipykernel_9479/321340224.py\u001b[0m in \u001b[0;36m<module>\u001b[0;34m\u001b[0m\n\u001b[0;32m----> 1\u001b[0;31m \u001b[0;32mwith\u001b[0m \u001b[0mopen\u001b[0m\u001b[0;34m(\u001b[0m\u001b[0;34m'id_2_url.pkl'\u001b[0m\u001b[0;34m,\u001b[0m\u001b[0;34m'rb'\u001b[0m\u001b[0;34m)\u001b[0m \u001b[0;32mas\u001b[0m \u001b[0mf\u001b[0m\u001b[0;34m:\u001b[0m\u001b[0;34m\u001b[0m\u001b[0;34m\u001b[0m\u001b[0m\n\u001b[0m\u001b[1;32m      2\u001b[0m     \u001b[0mid_2_url\u001b[0m\u001b[0;34m=\u001b[0m\u001b[0mpickle\u001b[0m\u001b[0;34m.\u001b[0m\u001b[0mload\u001b[0m\u001b[0;34m(\u001b[0m\u001b[0mf\u001b[0m\u001b[0;34m)\u001b[0m\u001b[0;34m\u001b[0m\u001b[0;34m\u001b[0m\u001b[0m\n",
      "\u001b[0;31mFileNotFoundError\u001b[0m: [Errno 2] No such file or directory: 'id_2_url.pkl'"
     ]
    }
   ],
   "source": [
    "with open('id_2_url.pkl','rb') as f:\n",
    "    id_2_url=pickle.load(f)\n"
   ]
  },
  {
   "cell_type": "code",
   "execution_count": 5,
   "id": "8d004510",
   "metadata": {},
   "outputs": [],
   "source": [
    "#id_2_url"
   ]
  },
  {
   "cell_type": "code",
   "execution_count": 16,
   "id": "b1b4fef9",
   "metadata": {},
   "outputs": [],
   "source": [
    "id_list = list(id_2_url.keys())"
   ]
  },
  {
   "cell_type": "code",
   "execution_count": 17,
   "id": "3d1c94c9",
   "metadata": {},
   "outputs": [],
   "source": [
    "url_list = list(id_2_url.values())"
   ]
  },
  {
   "cell_type": "code",
   "execution_count": 18,
   "id": "db4e8c9c",
   "metadata": {},
   "outputs": [
    {
     "data": {
      "text/plain": [
       "36957"
      ]
     },
     "execution_count": 18,
     "metadata": {},
     "output_type": "execute_result"
    }
   ],
   "source": [
    "len(url_list)"
   ]
  },
  {
   "cell_type": "code",
   "execution_count": 24,
   "id": "ddbf3737",
   "metadata": {},
   "outputs": [
    {
     "name": "stdout",
     "output_type": "stream",
     "text": [
      "['UCf_A3IYXSO1f_S6qQk9vWzA', 'UCDJ0hP72tsWu45cza1fy80g', 'UCCgmS-IJ49-yd5qO7ynD-Ww', 'UCAPuqmV3qYBTv0_hkvs6xgg', 'UCxVcaPth0itmT0nuU3a28Tg', 'UCz4vDzisj1bbO2H1r_2-wbg', 'UC_rLZ-cBPWNLGbctIkjomKw', 'UC-_FS-QRtuWQzx25ctompcw', 'UCuzezNFePF6UzsORJSKbOJg', 'UCh5bICCatQ70Fx4-jwAmWKQ']\n"
     ]
    }
   ],
   "source": [
    "print(id_list[:10])"
   ]
  },
  {
   "cell_type": "markdown",
   "id": "cdb748dd",
   "metadata": {},
   "source": [
    "# Test channels.list"
   ]
  },
  {
   "cell_type": "code",
   "execution_count": 25,
   "id": "6c645c1d",
   "metadata": {},
   "outputs": [],
   "source": [
    "requests=youtube.channels().list(\n",
    "    part=['snippet','topicDetails'],\n",
    "    id=id_list[:50]\n",
    ")"
   ]
  },
  {
   "cell_type": "code",
   "execution_count": 26,
   "id": "bcd49414",
   "metadata": {},
   "outputs": [],
   "source": [
    "response=requests.execute()"
   ]
  },
  {
   "cell_type": "code",
   "execution_count": 27,
   "id": "7b4cae53",
   "metadata": {},
   "outputs": [
    {
     "data": {
      "text/plain": [
       "dict"
      ]
     },
     "execution_count": 27,
     "metadata": {},
     "output_type": "execute_result"
    }
   ],
   "source": [
    "type(response)"
   ]
  },
  {
   "cell_type": "code",
   "execution_count": 33,
   "id": "f268bbe7",
   "metadata": {},
   "outputs": [],
   "source": [
    "#print(response)"
   ]
  },
  {
   "cell_type": "code",
   "execution_count": 22,
   "id": "3e2cc644",
   "metadata": {},
   "outputs": [
    {
     "name": "stdout",
     "output_type": "stream",
     "text": [
      "dict_keys(['kind', 'etag', 'pageInfo', 'items'])\n"
     ]
    }
   ],
   "source": [
    "print(response.keys())"
   ]
  },
  {
   "cell_type": "code",
   "execution_count": 29,
   "id": "a6e0658c",
   "metadata": {},
   "outputs": [
    {
     "name": "stdout",
     "output_type": "stream",
     "text": [
      "49\n"
     ]
    }
   ],
   "source": [
    "print(len(response['items']))"
   ]
  },
  {
   "cell_type": "code",
   "execution_count": 32,
   "id": "a06825bd",
   "metadata": {},
   "outputs": [
    {
     "name": "stdout",
     "output_type": "stream",
     "text": [
      "Katty Castro\n",
      "Todo el mundo 🌍 viral está aquí \n",
      "['/m/02wbm', '/m/0kt51', '/m/019_rr']\n",
      "\n",
      "──────────\n",
      "\n",
      "Beaches Resorts\n",
      "Your perfect family getaway awaits you at Beaches Resorts in Jamaica and Turks and Caicos. Play on pristine, white-sand beaches caressed by crystal-clear seas. Spend your family vacation in luxurious rooms and suites. Enjoy a whole array of incredibly exciting and fun activities for kids of every age. Truly, Beaches Luxury Included® vacations in Jamaica and Turks & Caicos promise unforgettable family fun beneath the Caribbean sun. Check out our videos and see for yourself how our award-winning Beaches Resorts offer more luxury inclusions than any other resorts on the planet!\n",
      "['/g/120yrv6h', '/m/019_rr']\n",
      "\n",
      "──────────\n",
      "\n",
      "Shruti Shorts\n",
      "A dedicated channel by Shruti Arjun Anand for all the SHORTS lovers .... \n",
      "\n",
      "Owned & Managed By: SpiceUp Media.\n",
      "\n",
      "Disclaimer: \n",
      "This channel and its content is purely made to make you laugh and spread happiness. It doesn't intend to mock or make fun of any caste, religion or region.\n",
      "['/m/02jjt', '/m/02vxn']\n",
      "\n",
      "──────────\n",
      "\n",
      "DJ Wich\n",
      "The Man With The Golden Touch\n",
      "['/m/0glt670', '/m/064t9', '/m/02lkt', '/m/04rlf']\n",
      "\n",
      "──────────\n",
      "\n",
      "엠뚜루마뚜루 : MBC 공식 종합 채널\n",
      "MBC의 🔥HOT🔥한 영상을 \n",
      "내맘대로ㅡ 편하게ㅡ ! \n",
      "휘뚜루 마뚜루 즐길 수 있는 채널!\n",
      "ᕕ( ᐛ )ᕗ  엠뚜루마뚜루 ᕕ( ᐛ )ᕗ\n",
      "['/m/02jjt', '/m/0f2f9', '/m/02vxn']\n",
      "\n",
      "──────────\n",
      "\n"
     ]
    }
   ],
   "source": [
    "for data in response['items'][:5]:\n",
    "    print(data['snippet']['title'])\n",
    "    print(data['snippet']['description'])\n",
    "    print(data['topicDetails']['topicIds'])\n",
    "    #print(data['snippet'].keys())\n",
    "    print()\n",
    "    print('─' * 10)\n",
    "    print()"
   ]
  },
  {
   "cell_type": "markdown",
   "id": "081adf19",
   "metadata": {},
   "source": [
    "# Test PlaylistItems.list"
   ]
  },
  {
   "cell_type": "code",
   "execution_count": 70,
   "id": "6c9d081e",
   "metadata": {},
   "outputs": [],
   "source": [
    "channelid= id_list[2766]"
   ]
  },
  {
   "cell_type": "code",
   "execution_count": 71,
   "id": "0ca6b79c",
   "metadata": {},
   "outputs": [
    {
     "name": "stdout",
     "output_type": "stream",
     "text": [
      "UC-7F0CnRxuZI9nSOHAp2MMg\n"
     ]
    }
   ],
   "source": [
    "print(channelid)"
   ]
  },
  {
   "cell_type": "code",
   "execution_count": 72,
   "id": "14c26dd8",
   "metadata": {},
   "outputs": [
    {
     "name": "stdout",
     "output_type": "stream",
     "text": [
      "UU-7F0CnRxuZI9nSOHAp2MMg\n"
     ]
    }
   ],
   "source": [
    "playlistid = 'UU'+channelid[2:]\n",
    "print(playlistid)"
   ]
  },
  {
   "cell_type": "code",
   "execution_count": 73,
   "id": "d81c9a00",
   "metadata": {},
   "outputs": [
    {
     "name": "stdout",
     "output_type": "stream",
     "text": [
      "{'kind': 'youtube#playlistItemListResponse', 'etag': 'KaN-Jg9KH7bzzzvH4c4n3DX-oyo', 'items': [{'kind': 'youtube#playlistItem', 'etag': '-I97lEVIdgOgngEFi8PcxOGVJig', 'id': 'VVUtN0YwQ25SeHVaSTluU09IQXAyTU1nLjVjSHpQb3pIZElv', 'snippet': {'publishedAt': '2012-03-05T21:12:50Z', 'channelId': 'UC-7F0CnRxuZI9nSOHAp2MMg', 'title': 'Beyoncé - End Of Time (Official Music Video)', 'description': 'Music video by Beyoncé performing End of Time (C) 2011 SONY BMG MUSIC ENTERTAINMENT VEVO', 'thumbnails': {'default': {'url': 'https://i.ytimg.com/vi/5cHzPozHdIo/default.jpg', 'width': 120, 'height': 90}, 'medium': {'url': 'https://i.ytimg.com/vi/5cHzPozHdIo/mqdefault.jpg', 'width': 320, 'height': 180}, 'high': {'url': 'https://i.ytimg.com/vi/5cHzPozHdIo/hqdefault.jpg', 'width': 480, 'height': 360}, 'standard': {'url': 'https://i.ytimg.com/vi/5cHzPozHdIo/sddefault.jpg', 'width': 640, 'height': 480}, 'maxres': {'url': 'https://i.ytimg.com/vi/5cHzPozHdIo/maxresdefault.jpg', 'width': 1280, 'height': 720}}, 'channelTitle': 'EverythingPopularNow', 'playlistId': 'UU-7F0CnRxuZI9nSOHAp2MMg', 'position': 0, 'resourceId': {'kind': 'youtube#video', 'videoId': '5cHzPozHdIo'}, 'videoOwnerChannelTitle': 'EverythingPopularNow', 'videoOwnerChannelId': 'UC-7F0CnRxuZI9nSOHAp2MMg'}}, {'kind': 'youtube#playlistItem', 'etag': 'JW6Ji6ExqLHrbTPJF4vXAU4b8nk', 'id': 'VVUtN0YwQ25SeHVaSTluU09IQXAyTU1nLmozN3MwelJtSm9j', 'snippet': {'publishedAt': '2012-02-25T15:04:48Z', 'channelId': 'UC-7F0CnRxuZI9nSOHAp2MMg', 'title': 'Beyoncé - I Care - (Official Music Video)', 'description': 'Music video by Beyoncé performing I Care (C) 2011 SONY BMG MUSIC ENTERTAINMENT VEVO', 'thumbnails': {'default': {'url': 'https://i.ytimg.com/vi/j37s0zRmJoc/default.jpg', 'width': 120, 'height': 90}, 'medium': {'url': 'https://i.ytimg.com/vi/j37s0zRmJoc/mqdefault.jpg', 'width': 320, 'height': 180}, 'high': {'url': 'https://i.ytimg.com/vi/j37s0zRmJoc/hqdefault.jpg', 'width': 480, 'height': 360}, 'standard': {'url': 'https://i.ytimg.com/vi/j37s0zRmJoc/sddefault.jpg', 'width': 640, 'height': 480}, 'maxres': {'url': 'https://i.ytimg.com/vi/j37s0zRmJoc/maxresdefault.jpg', 'width': 1280, 'height': 720}}, 'channelTitle': 'EverythingPopularNow', 'playlistId': 'UU-7F0CnRxuZI9nSOHAp2MMg', 'position': 1, 'resourceId': {'kind': 'youtube#video', 'videoId': 'j37s0zRmJoc'}, 'videoOwnerChannelTitle': 'EverythingPopularNow', 'videoOwnerChannelId': 'UC-7F0CnRxuZI9nSOHAp2MMg'}}], 'pageInfo': {'totalResults': 2, 'resultsPerPage': 10}}\n"
     ]
    }
   ],
   "source": [
    "request = youtube.playlistItems().list(\n",
    "        part=\"snippet\",\n",
    "        maxResults=10,\n",
    "        playlistId=playlistid\n",
    "    )\n",
    "response = request.execute()\n",
    "\n",
    "print(response)"
   ]
  },
  {
   "cell_type": "code",
   "execution_count": 74,
   "id": "9951d6f3",
   "metadata": {},
   "outputs": [
    {
     "name": "stdout",
     "output_type": "stream",
     "text": [
      "dict_keys(['kind', 'etag', 'items', 'pageInfo'])\n"
     ]
    }
   ],
   "source": [
    "print(response.keys())"
   ]
  },
  {
   "cell_type": "code",
   "execution_count": 75,
   "id": "6a668e8c",
   "metadata": {},
   "outputs": [
    {
     "data": {
      "text/plain": [
       "list"
      ]
     },
     "execution_count": 75,
     "metadata": {},
     "output_type": "execute_result"
    }
   ],
   "source": [
    "type(response['items'])"
   ]
  },
  {
   "cell_type": "code",
   "execution_count": 76,
   "id": "55271902",
   "metadata": {},
   "outputs": [
    {
     "data": {
      "text/plain": [
       "2"
      ]
     },
     "execution_count": 76,
     "metadata": {},
     "output_type": "execute_result"
    }
   ],
   "source": [
    "len(response['items'])\n",
    "\n",
    "# each item is a video"
   ]
  },
  {
   "cell_type": "code",
   "execution_count": 77,
   "id": "6c894d45",
   "metadata": {},
   "outputs": [
    {
     "data": {
      "text/plain": [
       "'Beyoncé - End Of Time (Official Music Video)'"
      ]
     },
     "execution_count": 77,
     "metadata": {},
     "output_type": "execute_result"
    }
   ],
   "source": [
    "response['items'][0]['snippet']['title']"
   ]
  },
  {
   "cell_type": "code",
   "execution_count": 78,
   "id": "39491d2d",
   "metadata": {},
   "outputs": [
    {
     "name": "stdout",
     "output_type": "stream",
     "text": [
      "Beyoncé - End Of Time (Official Music Video)\n",
      "Music video by Beyoncé performing End of Time (C) 2011 SONY BMG MUSIC ENTERTAINMENT VEVO\n",
      "\n",
      "Beyoncé - I Care - (Official Music Video)\n",
      "Music video by Beyoncé performing I Care (C) 2011 SONY BMG MUSIC ENTERTAINMENT VEVO\n",
      "\n"
     ]
    }
   ],
   "source": [
    "for item in response['items']:\n",
    "    print(item['snippet']['title'])\n",
    "    print(item['snippet']['description'])\n",
    "    print()\n",
    "    "
   ]
  },
  {
   "cell_type": "code",
   "execution_count": null,
   "id": "4083cfde",
   "metadata": {},
   "outputs": [],
   "source": []
  }
 ],
 "metadata": {
  "kernelspec": {
   "display_name": "Python 3 (ipykernel)",
   "language": "python",
   "name": "python3"
  },
  "language_info": {
   "codemirror_mode": {
    "name": "ipython",
    "version": 3
   },
   "file_extension": ".py",
   "mimetype": "text/x-python",
   "name": "python",
   "nbconvert_exporter": "python",
   "pygments_lexer": "ipython3",
   "version": "3.9.12"
  }
 },
 "nbformat": 4,
 "nbformat_minor": 5
}
