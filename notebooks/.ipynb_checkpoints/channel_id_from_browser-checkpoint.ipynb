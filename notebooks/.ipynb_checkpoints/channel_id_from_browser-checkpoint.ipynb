{
 "cells": [
  {
   "cell_type": "markdown",
   "id": "ea28adfb",
   "metadata": {},
   "source": [
    "# Get initial urls from YouTubers.me"
   ]
  },
  {
   "cell_type": "code",
   "execution_count": 1,
   "id": "b74f3e8d",
   "metadata": {},
   "outputs": [],
   "source": [
    "import requests\n",
    "import bs4\n",
    "from bs4 import BeautifulSoup\n",
    "\n",
    "\n",
    "def get_redirected_url(url):\n",
    "    response = requests.get(url, allow_redirects=False)\n",
    "    redirected_url = response.headers.get('Location')\n",
    "    return redirected_url\n",
    "\n",
    "\n",
    "def extract_youtube_urls():\n",
    "    url = \"https://us.youtubers.me/global/all/top-1000-youtube-channels\"\n",
    "    response = requests.get(url)\n",
    "    soup = BeautifulSoup(response.text, 'html.parser')\n",
    "\n",
    "    channel_urls = []\n",
    "    table_element = soup.find('table')\n",
    "    if table_element:\n",
    "        anchor_elements = table_element.find_all('a', href=lambda href: href and '/youtuber-stats' in href)[:10]\n",
    "        for element in anchor_elements:\n",
    "            youtube_url = \"https://us.youtubers.me\" + element['href'].replace(\"youtuber-stats\", \"youtube\")\n",
    "            channel_urls.append(get_redirected_url(youtube_url))\n",
    "\n",
    "    return channel_urls\n",
    "\n",
    "\n"
   ]
  },
  {
   "cell_type": "code",
   "execution_count": 2,
   "id": "6432d4cf",
   "metadata": {},
   "outputs": [
    {
     "name": "stdout",
     "output_type": "stream",
     "text": [
      "https://www.youtube.com/channel/UCq-Fj5jknLsUf-MWSy4_brA\n",
      "https://www.youtube.com/channel/UCbCmjCuTUZos6Inko4u57UQ\n",
      "https://www.youtube.com/channel/UCpEhnqL0y41EpW2TvWAHD7Q\n",
      "https://www.youtube.com/channel/UC6-F5tO8uklgE9Zy8IvbdFw\n",
      "https://www.youtube.com/channel/UCk8GzjMOrta8yxDcKfylJYw\n",
      "https://www.youtube.com/channel/UCJplp5SjeGSdVdwsfb9Q7lQ\n",
      "https://www.youtube.com/channel/UCJ5v_MCY6GNUBTO8-D3XoAg\n",
      "https://www.youtube.com/channel/UCvlE5gTbOvjiolFlEm-c_Ow\n",
      "https://www.youtube.com/channel/UCppHT7SZKKvar4Oc9J4oljQ\n",
      "https://www.youtube.com/channel/UC55IWqFLDH1Xp7iu1_xknRA\n",
      "CPU times: user 1.31 s, sys: 52.5 ms, total: 1.36 s\n",
      "Wall time: 6.07 s\n"
     ]
    }
   ],
   "source": [
    "%%time\n",
    "youtube_urls = extract_youtube_urls()\n",
    "for url in youtube_urls:\n",
    "    print(url)"
   ]
  },
  {
   "cell_type": "markdown",
   "id": "d4090b86",
   "metadata": {},
   "source": [
    "# Get channel id from urls"
   ]
  },
  {
   "cell_type": "code",
   "execution_count": 5,
   "id": "d6fee3fd",
   "metadata": {},
   "outputs": [],
   "source": [
    "# Not using beautiful soup\n",
    "\n",
    "import requests\n",
    "import re\n",
    "\n",
    "\n",
    "def get_redirected_url(url):\n",
    "    response = requests.get(url, allow_redirects=False)\n",
    "    redirected_url = response.headers.get('Location')\n",
    "    return redirected_url\n",
    "\n",
    "#channel_id_pattern = re.compile(r'\"channelId\":\"([a-zA-Z0-9-_]+)\"') # this one is bad if there are secondary channels\n",
    "#channel_id_pattern = re.compile(r'\"channelId\":\"([a-zA-Z0-9-_]+)\",\"title\"')\n",
    "channel_id_pattern = re.compile(r'\"c4TabbedHeaderRenderer\":{\"channelId\":\"([a-zA-Z0-9-_]+)\"')\n",
    "\n",
    "def get_channel_id_from_url(channel_url):\n",
    "    channel_url=get_redirected_url(channel_url)\n",
    "    \n",
    "    match_id = re.search(r\"channel/(UC[a-zA-Z0-9-_]+)\", channel_url)\n",
    "    if match_id:\n",
    "        channel_id = match_id.group(1)\n",
    "        return channel_id\n",
    "\n",
    "    # Send an HTTP GET request to the channel URL with the custom headers\n",
    "    response = requests.get(channel_url,allow_redirects=True)\n",
    "    page_source = response.text\n",
    "\n",
    "    # Extract the Channel ID from the page source using regular expressions\n",
    "    #match = re.search(r'\"channelId\":\"([a-zA-Z0-9-_]{24})\"', page_source)\n",
    "    match = channel_id_pattern.search(page_source)\n",
    "    if match:\n",
    "        channel_id = match.group(1)\n",
    "        return channel_id\n",
    "    else:\n",
    "        return None"
   ]
  },
  {
   "cell_type": "code",
   "execution_count": 6,
   "id": "bed098e2",
   "metadata": {},
   "outputs": [],
   "source": [
    "# using beautifulsoup\n",
    "\n",
    "import requests\n",
    "import re\n",
    "import json\n",
    "\n",
    "\n",
    "def get_redirected_url(url):\n",
    "    response = requests.get(url, allow_redirects=False)\n",
    "    redirected_url = response.headers.get('Location')\n",
    "    return redirected_url\n",
    "\n",
    "\n",
    "def get_channel_id_from_url_2(channel_url):\n",
    "    channel_url=get_redirected_url(channel_url)\n",
    "    \n",
    "    match_id = re.search(r\"channel/(UC[a-zA-Z0-9-_]+)\", channel_url)\n",
    "    if match_id:\n",
    "        channel_id = match_id.group(1)\n",
    "        return channel_id\n",
    "\n",
    "    # Send an HTTP GET request to the channel URL with the custom headers\n",
    "    response = requests.get(channel_url,allow_redirects=True)\n",
    "    soup=BeautifulSoup(response.text, \"html.parser\")\n",
    "    data= re.search(r\"var ytInitialData = ({.*});\", str(soup.prettify())).group(1)\n",
    "\n",
    "    json_data=json.loads(data)\n",
    "    return json_data['header']['c4TabbedHeaderRenderer']['channelId']\n",
    "    "
   ]
  },
  {
   "cell_type": "code",
   "execution_count": 7,
   "id": "de024bff",
   "metadata": {},
   "outputs": [],
   "source": [
    "test_list=[]\n",
    "for url in youtube_urls[:100]:\n",
    "    channelid = get_channel_id_from_url(url)\n",
    "    test_list.append(channelid)\n",
    "    \n",
    "    "
   ]
  },
  {
   "cell_type": "code",
   "execution_count": 8,
   "id": "c1de9e01",
   "metadata": {},
   "outputs": [
    {
     "data": {
      "text/plain": [
       "['UC3gNmTGu-TTbFPpfSs5kNkg',\n",
       " 'UCRv76wLBC73jiP7LX4C3l8Q',\n",
       " 'UCbTLwN10NoCU4WDzLf1JMOA',\n",
       " 'UCBAb_DK4GYZqZR9MFA7y2Xg',\n",
       " 'UCyoXW-Dse7fURq30EWl_CUA',\n",
       " 'UCAOtE1V7Ots4DjM8JLlrYgg',\n",
       " 'UCUe6ZpY6TJ0no8jI4l2iLxw',\n",
       " 'UCj-SWZSE0AmotGSQ3apROHw',\n",
       " 'UCYQo8CdhXD22qfwUBUw591Q',\n",
       " 'UCN8S4CqMRy6tVKVXvs7Bzeg',\n",
       " 'UCV4XcEqBswMCryorV_gNENw',\n",
       " 'UCuSo4gcgxJRf4Bzu43wwVyg',\n",
       " 'UCi8e0iOVk1fEOogdfu4YgfA',\n",
       " 'UCPNxhDvTcytIdvwXWAm43cA',\n",
       " 'UCdgDIIKpFlpHB1L0LZnh5EQ',\n",
       " 'UCUAL--p3qAa27luR0IYbjZA',\n",
       " 'UCK9F8nycURBsR0YlrBsu1Ag',\n",
       " 'UCFeUyPY6W8qX8w2o6oSiRmw',\n",
       " 'UC6eq3sR4CtbvGdmInchzWUA',\n",
       " 'UCIeNlITYK46VkR7yIuTL8GQ',\n",
       " 'UCiBigY9XM-HaOxUc269ympg',\n",
       " 'UCFMFB7_Ik8jBnCwSuh295wA',\n",
       " 'UCnB5W_ZJgiDFnklejRGADxw',\n",
       " 'UCR1c65UsjpaVgcLKa7eM1tg',\n",
       " 'UCcKJJuOe2tOqgrKw0Gks-sw',\n",
       " 'UCOF23vGxkbhN4wl7ROrgXsA',\n",
       " 'UCYzEMRKqrh01-tauv7MYyVQ',\n",
       " 'UCu7Hg0f3rxqZ6qs-188ZbjQ',\n",
       " 'UC3uTUlmgECBnsP777U4GPKQ',\n",
       " 'UCCyKsYaRi62axS-kasXW7wA',\n",
       " 'UCdX5KXiCTPYWYZscfphgQ4g',\n",
       " 'UC2el0G8cIcOOdjlHy2KOBkQ',\n",
       " 'UC0ebPa2q1rwZVN7dYemunUQ',\n",
       " 'UCrreHSUa5rnuCVDeO8dX4eA',\n",
       " 'UC-GAhNmY6bkuuRPUSaRI_oQ',\n",
       " 'UCb08zJgXapidkizIaEN5EfQ',\n",
       " 'UC9CsZoTaHZqZjnNZv7v3T1g',\n",
       " 'UCtlth0w7_mYqpHPViMhQ99Q',\n",
       " 'UCWKeZvw4iSZVM2qXKZde58A',\n",
       " 'UClVbhSLxwws-KSsPKz135bw',\n",
       " 'UC1AEadAUKi6Zt-G3PatrU-Q',\n",
       " 'UCzIdYMdAtTsWucGCZyZvN6w',\n",
       " 'UCPUeGC_AL-OnDQORKhRm6iA',\n",
       " 'UCyKa1YNZLio6XfjMR7fw45Q',\n",
       " 'UCsSsgPaZ2GSmO6il8Cb5iGA',\n",
       " 'UC3ar28GS6o1p0m_wabfk2zw',\n",
       " 'UC7e1XWjOlYy8XlNMeVxeKNg',\n",
       " 'UCY26xU0-avwTJ6F6TzUZVEw',\n",
       " 'UCkgdDBHO7zl3tWIjldQeK7g',\n",
       " 'UCSY5V7BJSrxNvvBF0Drslow',\n",
       " 'UCLM1OpCXx90zzBLd9j6ihgQ',\n",
       " 'UCzH3iADRIq1IJlIXjfNgTpA',\n",
       " 'UCBZNnwQOBirwpeWncqTj_KQ',\n",
       " 'UCNEKMkg_DG8eAyR1BNWsSvw',\n",
       " 'UC8I-UIlXPNS4luC4iV7dRdQ',\n",
       " 'UCiqE9bJFJhPEOVGdpj2LdEg',\n",
       " 'UChlTeveFUK6bvHrmCb8J99w',\n",
       " 'UCF9IpcBgYvMS3GKkM_xwiqA',\n",
       " 'UC6pGDc4bFGD1_36IKv3FnYg',\n",
       " 'UCmZx3uP8kvCIBMAONQiAvbw',\n",
       " 'UCr9QW8w8CvVAe3MSWZCAn-Q',\n",
       " 'UCs570zdFq_NNA5OcV8chnHw',\n",
       " 'UCS7H8U-n5mINVJjJsaRtGHg',\n",
       " 'UCQphRgAhj5UxktrQNP3WF5g',\n",
       " 'UCxuBvuxd7lU7fx-8aactdVA',\n",
       " 'UCosXctaTYxN4YPIvI5Fpcrw',\n",
       " 'UCr-rCvgg21KqfrnGopaQeGw',\n",
       " 'UCbKWv2x9t6u8yZoB3KcPtnw',\n",
       " 'UCBNXKrniCm4Qd9v5tTzY-aA',\n",
       " 'UCLoKWb_rlp80mg0aSLtsUGw',\n",
       " 'UCKQKIY2YlI4L5QVg7hhfjrQ',\n",
       " 'UC5A-Wp9ujcr5g9sYagAafEA',\n",
       " 'UC76Yc75RGWonijH02CIhPaw',\n",
       " 'UC5K8SEF_7GQBedXIjtXLCRg',\n",
       " 'UC3sCmmMaM383cjv1jNdiU2w',\n",
       " 'UCWbaNJJJQWBOX9U9H9K52Ag',\n",
       " 'UCpgG0rtKd-CTzStI9w2ibkg',\n",
       " 'UCUaZwCnn6Z-16BmkKngSs0g',\n",
       " 'UCKFIi1uWM9BCMb7O_GyvBsQ',\n",
       " 'UCzcRQ3vRNr6fJ1A9rqFn7QA',\n",
       " 'UCWjVfZ3VnyUwBEOkuOlaU3g',\n",
       " 'UCunkR_ekffRWZppVa1E6tIA',\n",
       " 'UCkna2OcuN1E6u5I8GVtdkOw',\n",
       " 'UCZcsG6kUpOLQZZpTMSAernw',\n",
       " 'UCrS7tv883mVqv07HKgVuwAA',\n",
       " 'UC7WQEi7TZtnSuuesSrOhVwg',\n",
       " 'UCx554p1Bu_Mp1q0H_bEtZ1Q',\n",
       " 'UCsyoNsqE37tZIkuvqVPTa7g',\n",
       " 'UClO_ni5PslPD9LsfZiyfcyA',\n",
       " 'UCph-WGR0oCbJDpaWmNHb5zg',\n",
       " 'UCAC2gMyB4R2hCBTU3nitSCg',\n",
       " 'UCQYY7FZ_Xph6HaYZtKaE-HA',\n",
       " 'UCCc1DMB-AcOssKJ7KweLXBg',\n",
       " 'UCzjKFGxAQKNsydtyJMRLeEA',\n",
       " 'UCzkA5UTtr_vNYqMSB3DisVA',\n",
       " 'UCwVg9btOceLQuNCdoQk9CXg',\n",
       " 'UCM3vklq_KgWZDmbfg_0Yg_A',\n",
       " 'UC8seEW5sdRsZKFbNr-oR2WQ',\n",
       " 'UCfqDvjXc2jbAzaeqlIggkkg',\n",
       " 'UCF5IUvgXe_3sHBuKpEz7Btw']"
      ]
     },
     "execution_count": 8,
     "metadata": {},
     "output_type": "execute_result"
    }
   ],
   "source": [
    "test_list"
   ]
  },
  {
   "cell_type": "code",
   "execution_count": 104,
   "id": "424b012e",
   "metadata": {},
   "outputs": [
    {
     "name": "stdout",
     "output_type": "stream",
     "text": [
      "CPU times: user 24.5 ms, sys: 5.31 ms, total: 29.8 ms\n",
      "Wall time: 345 ms\n"
     ]
    },
    {
     "data": {
      "text/plain": [
       "'UCCezIgC97PvUuR4_gbFUs5g'"
      ]
     },
     "execution_count": 104,
     "metadata": {},
     "output_type": "execute_result"
    }
   ],
   "source": [
    "%%time\n",
    "get_channel_id_from_url('https://www.youtube.com/@coreyms')"
   ]
  },
  {
   "cell_type": "code",
   "execution_count": 105,
   "id": "d5d66bcd",
   "metadata": {},
   "outputs": [
    {
     "name": "stdout",
     "output_type": "stream",
     "text": [
      "CPU times: user 49.8 ms, sys: 7.19 ms, total: 57 ms\n",
      "Wall time: 299 ms\n"
     ]
    },
    {
     "data": {
      "text/plain": [
       "'UCCezIgC97PvUuR4_gbFUs5g'"
      ]
     },
     "execution_count": 105,
     "metadata": {},
     "output_type": "execute_result"
    }
   ],
   "source": [
    "%%time\n",
    "get_channel_id_from_url_2('https://www.youtube.com/@coreyms')"
   ]
  },
  {
   "cell_type": "code",
   "execution_count": null,
   "id": "35a5e935",
   "metadata": {},
   "outputs": [],
   "source": []
  }
 ],
 "metadata": {
  "kernelspec": {
   "display_name": "Python 3 (ipykernel)",
   "language": "python",
   "name": "python3"
  },
  "language_info": {
   "codemirror_mode": {
    "name": "ipython",
    "version": 3
   },
   "file_extension": ".py",
   "mimetype": "text/x-python",
   "name": "python",
   "nbconvert_exporter": "python",
   "pygments_lexer": "ipython3",
   "version": "3.9.12"
  }
 },
 "nbformat": 4,
 "nbformat_minor": 5
}
